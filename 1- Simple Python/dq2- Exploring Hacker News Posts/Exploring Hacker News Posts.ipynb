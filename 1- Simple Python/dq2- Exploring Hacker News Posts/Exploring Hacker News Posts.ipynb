{
 "cells": [
  {
   "cell_type": "markdown",
   "metadata": {
    "collapsed": true
   },
   "source": [
    "# Lets see which type of posts garner more attention at Hacker News\n",
    "![hacker_news-1000x525-1](hacker_news-1000x525-1.jpg)\n",
    "\n",
    "\n",
    "## Introduction:\n",
    "In this project, we will work with a data set of submissions to popular technology site, called the [Hacker News](https://news.ycombinator.com/).\n",
    "\n",
    "Hacker News is a site started by the startup incubator [Y Combinator](https://news.ycombinator.com/), where user-submitted stories (known as \"posts\") are voted and commented upon, similar to reddit. Hacker News is extremely popular in technology and startup circles, and posts that make it to the top of Hacker News' listings can get hundreds of thousands of visitors as a result.\n",
    "\n",
    "## Goal:\n",
    "We are interested in posts whose titles begin with either `Ask HN` or `Show HN`. \n",
    "- Users submit `Ask HN` posts to ask the Hacker News community a specific question.\n",
    "- Likewise, users submit `Show HN` posts to show the Hacker News community a project, product, or just generally something interesting. \n",
    "\n",
    "\n",
    "**We'll compare these two types of posts to determine the following:**\n",
    "\n",
    "- Do `Ask HN` or `Show HN` receive more comments on average?\n",
    "- Do posts created at a certain time receive more comments on average?\n",
    "\n",
    "### Data Dictionary:\n",
    "|Feature| Description|\n",
    "|-------|:--------:|\n",
    "|id| The unique identifier from Hacker News for the post|\n",
    "|title| The title of the post|\n",
    "|url| The URL that the posts links to, if the post has a URL|\n",
    "|num_points| The number of points the post acquired, calculated as the total number of upvotes minus the total number of downvotes|\n",
    "|num_comments| The number of comments that were made on the post|\n",
    "|author| The username of the person who submitted the post|\n",
    "|created_at| The date and time at which the post was submitted|\n",
    "\n",
    "### Resources\n",
    "Link: [Resource](https://www.kaggle.com/hacker-news/hacker-news-posts)\n",
    "\n",
    "---"
   ]
  },
  {
   "cell_type": "markdown",
   "metadata": {},
   "source": [
    "## Loading the Dataset"
   ]
  },
  {
   "cell_type": "code",
   "execution_count": 1,
   "metadata": {},
   "outputs": [
    {
     "data": {
      "text/plain": [
       "[['id', 'title', 'url', 'num_points', 'num_comments', 'author', 'created_at'],\n",
       " ['12224879',\n",
       "  'Interactive Dynamic Video',\n",
       "  'http://www.interactivedynamicvideo.com/',\n",
       "  '386',\n",
       "  '52',\n",
       "  'ne0phyte',\n",
       "  '8/4/2016 11:52'],\n",
       " ['10975351',\n",
       "  'How to Use Open Source and Shut the Fuck Up at the Same Time',\n",
       "  'http://hueniverse.com/2016/01/26/how-to-use-open-source-and-shut-the-fuck-up-at-the-same-time/',\n",
       "  '39',\n",
       "  '10',\n",
       "  'josep2',\n",
       "  '1/26/2016 19:30'],\n",
       " ['11964716',\n",
       "  \"Florida DJs May Face Felony for April Fools' Water Joke\",\n",
       "  'http://www.thewire.com/entertainment/2013/04/florida-djs-april-fools-water-joke/63798/',\n",
       "  '2',\n",
       "  '1',\n",
       "  'vezycash',\n",
       "  '6/23/2016 22:20'],\n",
       " ['11919867',\n",
       "  'Technology ventures: From Idea to Enterprise',\n",
       "  'https://www.amazon.com/Technology-Ventures-Enterprise-Thomas-Byers/dp/0073523429',\n",
       "  '3',\n",
       "  '1',\n",
       "  'hswarna',\n",
       "  '6/17/2016 0:01']]"
      ]
     },
     "execution_count": 1,
     "metadata": {},
     "output_type": "execute_result"
    }
   ],
   "source": [
    "# Using csv module,\n",
    "from csv import reader\n",
    "opened_file = open('hacker_news.csv')\n",
    "read_file = reader(opened_file)\n",
    "hn = list(read_file)\n",
    "hn[:5] # Display top 5 rows only"
   ]
  },
  {
   "cell_type": "code",
   "execution_count": 2,
   "metadata": {},
   "outputs": [
    {
     "name": "stdout",
     "output_type": "stream",
     "text": [
      "['id', 'title', 'url', 'num_points', 'num_comments', 'author', 'created_at']\n",
      "\n",
      "\n",
      "[['12224879', 'Interactive Dynamic Video', 'http://www.interactivedynamicvideo.com/', '386', '52', 'ne0phyte', '8/4/2016 11:52'], ['10975351', 'How to Use Open Source and Shut the Fuck Up at the Same Time', 'http://hueniverse.com/2016/01/26/how-to-use-open-source-and-shut-the-fuck-up-at-the-same-time/', '39', '10', 'josep2', '1/26/2016 19:30'], ['11964716', \"Florida DJs May Face Felony for April Fools' Water Joke\", 'http://www.thewire.com/entertainment/2013/04/florida-djs-april-fools-water-joke/63798/', '2', '1', 'vezycash', '6/23/2016 22:20'], ['11919867', 'Technology ventures: From Idea to Enterprise', 'https://www.amazon.com/Technology-Ventures-Enterprise-Thomas-Byers/dp/0073523429', '3', '1', 'hswarna', '6/17/2016 0:01'], ['10301696', 'Note by Note: The Making of Steinway L1037 (2007)', 'http://www.nytimes.com/2007/11/07/movies/07stein.html?_r=0', '8', '2', 'walterbell', '9/30/2015 4:12']]\n"
     ]
    }
   ],
   "source": [
    "# While using CSV module to read the data, headers often come along with the data. Lets separate the headers\n",
    "\n",
    "headers = hn[0] # Separating the first row, as it contains titles\n",
    "hn = hn[1:] # Assigning hn with the data, excluding headers.\n",
    "print(headers)\n",
    "print('\\n')\n",
    "print(hn[:5])"
   ]
  },
  {
   "cell_type": "code",
   "execution_count": 3,
   "metadata": {},
   "outputs": [
    {
     "data": {
      "text/plain": [
       "{0: 'id',\n",
       " 1: 'title',\n",
       " 2: 'url',\n",
       " 3: 'num_points',\n",
       " 4: 'num_comments',\n",
       " 5: 'author',\n",
       " 6: 'created_at'}"
      ]
     },
     "execution_count": 3,
     "metadata": {},
     "output_type": "execute_result"
    }
   ],
   "source": [
    "index_to_name = {} \n",
    "for index, name in enumerate(headers): # enumerate helps us to run two variables in a For loop\n",
    "    index_to_name[index] = name\n",
    "    \n",
    "index_to_name"
   ]
  },
  {
   "cell_type": "markdown",
   "metadata": {},
   "source": [
    "### Lets extract posts beginning with `Ask HN` or `Show HN`\n",
    "First, we'll identify posts that begin with either Ask HN, Show HN and others and separate the data for those types of posts into different lists."
   ]
  },
  {
   "cell_type": "code",
   "execution_count": 4,
   "metadata": {},
   "outputs": [
    {
     "data": {
      "text/plain": [
       "['id', 'title', 'url', 'num_points', 'num_comments', 'author', 'created_at']"
      ]
     },
     "execution_count": 4,
     "metadata": {},
     "output_type": "execute_result"
    }
   ],
   "source": [
    "headers"
   ]
  },
  {
   "cell_type": "code",
   "execution_count": 5,
   "metadata": {},
   "outputs": [
    {
     "name": "stdout",
     "output_type": "stream",
     "text": [
      "The number of posts starting with Ask HN: 1744\n",
      "The number of posts starting with Show HN: 1162\n",
      "The number of posts starting with Others: 17194\n"
     ]
    }
   ],
   "source": [
    "ask_posts = []\n",
    "show_posts = []\n",
    "other_posts = []\n",
    "\n",
    "for row in hn:\n",
    "    title = row[1] # titles index\n",
    "    if title.lower().startswith('ask hn'):\n",
    "        ask_posts.append(row)\n",
    "    elif title.lower().startswith('show hn'):\n",
    "        show_posts.append(row)\n",
    "    else:\n",
    "        other_posts.append(row)\n",
    "        \n",
    "print('The number of posts starting with Ask HN:',len(ask_posts))\n",
    "print('The number of posts starting with Show HN:',len(show_posts))\n",
    "print('The number of posts starting with Others:',len(other_posts))"
   ]
  },
  {
   "cell_type": "markdown",
   "metadata": {},
   "source": [
    "### Determining either *Ask posts* or *Show posts* recieved more comments"
   ]
  },
  {
   "cell_type": "code",
   "execution_count": 6,
   "metadata": {},
   "outputs": [
    {
     "data": {
      "text/plain": [
       "{0: 'id',\n",
       " 1: 'title',\n",
       " 2: 'url',\n",
       " 3: 'num_points',\n",
       " 4: 'num_comments',\n",
       " 5: 'author',\n",
       " 6: 'created_at'}"
      ]
     },
     "execution_count": 6,
     "metadata": {},
     "output_type": "execute_result"
    }
   ],
   "source": [
    "index_to_name"
   ]
  },
  {
   "cell_type": "code",
   "execution_count": 7,
   "metadata": {},
   "outputs": [
    {
     "name": "stdout",
     "output_type": "stream",
     "text": [
      "14.038417431192661\n",
      "10.31669535283993\n"
     ]
    }
   ],
   "source": [
    "total_ask_comments = 0\n",
    "for row in ask_posts:\n",
    "    num_comments = row[4] # index number of comments\n",
    "    num_comments = int(num_comments)\n",
    "    total_ask_comments += num_comments\n",
    "    \n",
    "avg_ask_comments = total_ask_comments/len(ask_posts) # Average\n",
    "print(avg_ask_comments)\n",
    "\n",
    "total_show_comments = 0\n",
    "for row in show_posts:\n",
    "    num_comments = row[4]\n",
    "    num_comments = int(num_comments)\n",
    "    total_show_comments += num_comments\n",
    "    \n",
    "avg_show_comments = total_show_comments/len(show_posts) # Average\n",
    "print(avg_show_comments)\n"
   ]
  },
  {
   "cell_type": "markdown",
   "metadata": {},
   "source": [
    "On average, ask posts in our sample received around 14 comments, whereas show posts received around 10 comments."
   ]
  },
  {
   "cell_type": "markdown",
   "metadata": {},
   "source": [
    "### Next, we'll determine if *ask posts* created at a certain time are more likely to attract comments. \n",
    "We'll use the following steps to perform this analysis:\n",
    "- Calculate the amount of `ask posts` created in each hour of the day, along with the number of comments received.\n",
    "- Calculate the average number of comments `ask posts` receive by hour created.\n",
    "\n",
    "For that, lets create two dictionaries.\n",
    "- `counts_by_hour`: contains the number of ask posts created during each hour of the day.\n",
    "- `comments_by_hour`: contains the corresponding number of comments ask posts created at each hour received"
   ]
  },
  {
   "cell_type": "code",
   "execution_count": 8,
   "metadata": {},
   "outputs": [
    {
     "data": {
      "text/plain": [
       "{0: 'id',\n",
       " 1: 'title',\n",
       " 2: 'url',\n",
       " 3: 'num_points',\n",
       " 4: 'num_comments',\n",
       " 5: 'author',\n",
       " 6: 'created_at'}"
      ]
     },
     "execution_count": 8,
     "metadata": {},
     "output_type": "execute_result"
    }
   ],
   "source": [
    "index_to_name"
   ]
  },
  {
   "cell_type": "code",
   "execution_count": 9,
   "metadata": {},
   "outputs": [],
   "source": [
    "import datetime as dt\n",
    "result_list = []\n",
    "for row in ask_posts:\n",
    "    created_at = row[6] # index for time of creation of the post\n",
    "    num_comments = int(row[4]) # index number of comments\n",
    "    result_list.append([created_at, num_comments])\n",
    "\n",
    "counts_by_hour = {}\n",
    "comments_by_hour = {}\n",
    "date_format = \"%m/%d/%Y %H:%M\"\n",
    "\n",
    "for row in result_list:\n",
    "    date = row[0]\n",
    "    comment = row[1]\n",
    "    hour = dt.datetime.strptime(date, date_format).strftime(\"%H\")\n",
    "    if hour in counts_by_hour:\n",
    "        comments_by_hour[hour] += comment\n",
    "        counts_by_hour[hour] += 1\n",
    "    else:\n",
    "        comments_by_hour[hour] = comment\n",
    "        counts_by_hour[hour] = 1\n",
    "\n"
   ]
  },
  {
   "cell_type": "code",
   "execution_count": 10,
   "metadata": {},
   "outputs": [
    {
     "name": "stdout",
     "output_type": "stream",
     "text": [
      "The following dictionary's keys mention the hour, and values mention the number of ASK posts posted in that hour\n"
     ]
    },
    {
     "data": {
      "text/plain": [
       "{'09': 45,\n",
       " '13': 85,\n",
       " '10': 59,\n",
       " '14': 107,\n",
       " '16': 108,\n",
       " '23': 68,\n",
       " '12': 73,\n",
       " '17': 100,\n",
       " '15': 116,\n",
       " '21': 109,\n",
       " '20': 80,\n",
       " '02': 58,\n",
       " '18': 109,\n",
       " '03': 54,\n",
       " '05': 46,\n",
       " '19': 110,\n",
       " '01': 60,\n",
       " '22': 71,\n",
       " '08': 48,\n",
       " '04': 47,\n",
       " '00': 55,\n",
       " '06': 44,\n",
       " '07': 34,\n",
       " '11': 58}"
      ]
     },
     "execution_count": 10,
     "metadata": {},
     "output_type": "execute_result"
    }
   ],
   "source": [
    "print('The following dictionary\\'s keys mention the hour, and values mention the number of ASK posts posted in that hour')\n",
    "counts_by_hour"
   ]
  },
  {
   "cell_type": "code",
   "execution_count": 11,
   "metadata": {},
   "outputs": [
    {
     "name": "stdout",
     "output_type": "stream",
     "text": [
      "The following dictionary's keys mention the hour and values mention the corresponding number of comments the ASK posts created in that hour\n"
     ]
    },
    {
     "data": {
      "text/plain": [
       "{'09': 251,\n",
       " '13': 1253,\n",
       " '10': 793,\n",
       " '14': 1416,\n",
       " '16': 1814,\n",
       " '23': 543,\n",
       " '12': 687,\n",
       " '17': 1146,\n",
       " '15': 4477,\n",
       " '21': 1745,\n",
       " '20': 1722,\n",
       " '02': 1381,\n",
       " '18': 1439,\n",
       " '03': 421,\n",
       " '05': 464,\n",
       " '19': 1188,\n",
       " '01': 683,\n",
       " '22': 479,\n",
       " '08': 492,\n",
       " '04': 337,\n",
       " '00': 447,\n",
       " '06': 397,\n",
       " '07': 267,\n",
       " '11': 641}"
      ]
     },
     "execution_count": 11,
     "metadata": {},
     "output_type": "execute_result"
    }
   ],
   "source": [
    "print('The following dictionary\\'s keys mention the hour and values mention the corresponding number of comments the ASK posts created in that hour')\n",
    "comments_by_hour"
   ]
  },
  {
   "cell_type": "markdown",
   "metadata": {},
   "source": [
    "### The average number of comments per post for posts created during each hour of the day\n",
    "We will do that using the dictionaries \n",
    "- `counts_by_hour`\n",
    "- `comments_by_hour`"
   ]
  },
  {
   "cell_type": "code",
   "execution_count": 12,
   "metadata": {},
   "outputs": [
    {
     "data": {
      "text/plain": [
       "[['09', 5.5777777777777775],\n",
       " ['13', 14.741176470588234],\n",
       " ['10', 13.440677966101696],\n",
       " ['14', 13.233644859813085],\n",
       " ['16', 16.796296296296298],\n",
       " ['23', 7.985294117647059],\n",
       " ['12', 9.41095890410959],\n",
       " ['17', 11.46],\n",
       " ['15', 38.5948275862069],\n",
       " ['21', 16.009174311926607],\n",
       " ['20', 21.525],\n",
       " ['02', 23.810344827586206],\n",
       " ['18', 13.20183486238532],\n",
       " ['03', 7.796296296296297],\n",
       " ['05', 10.08695652173913],\n",
       " ['19', 10.8],\n",
       " ['01', 11.383333333333333],\n",
       " ['22', 6.746478873239437],\n",
       " ['08', 10.25],\n",
       " ['04', 7.170212765957447],\n",
       " ['00', 8.127272727272727],\n",
       " ['06', 9.022727272727273],\n",
       " ['07', 7.852941176470588],\n",
       " ['11', 11.051724137931034]]"
      ]
     },
     "execution_count": 12,
     "metadata": {},
     "output_type": "execute_result"
    }
   ],
   "source": [
    "avg_by_hour = []\n",
    "for hr in comments_by_hour:\n",
    "    avg_by_hour.append([hr, comments_by_hour[hr] / counts_by_hour[hr]])\n",
    "\n",
    "avg_by_hour"
   ]
  },
  {
   "cell_type": "markdown",
   "metadata": {},
   "source": [
    "We have obtained the results but they are untidy and unorganized. \n",
    "Lets do the following operations to take the best out of them"
   ]
  },
  {
   "cell_type": "code",
   "execution_count": 13,
   "metadata": {},
   "outputs": [
    {
     "name": "stdout",
     "output_type": "stream",
     "text": [
      "Top 5 Hours for 'Ask HN' Comments:\n",
      "\n",
      "15:00: 38.59 average comments per post\n",
      "02:00: 23.81 average comments per post\n",
      "20:00: 21.52 average comments per post\n",
      "16:00: 16.80 average comments per post\n",
      "21:00: 16.01 average comments per post\n"
     ]
    }
   ],
   "source": [
    "swapped_avg_by_hour = []\n",
    "for row in avg_by_hour:\n",
    "    swapped_avg_by_hour.append([row[1], row[0]])\n",
    "\n",
    "\n",
    "sorted_swap= sorted(swapped_avg_by_hour, reverse=True)\n",
    "print(\"Top 5 Hours for 'Ask HN' Comments:\\n\")\n",
    "for avg, hr in sorted_swap[:5]:\n",
    "    print(\"{}: {:.2f} average comments per post\".format(dt.datetime.strptime(hr, \"%H\").strftime(\"%H:%M\"),avg))\n",
    "\n"
   ]
  },
  {
   "cell_type": "markdown",
   "metadata": {},
   "source": [
    "### Where we see the high level of activity with `num_points`\n",
    "`num_points` is total number of upvotes **minus** total number of downvotes"
   ]
  },
  {
   "cell_type": "code",
   "execution_count": 14,
   "metadata": {},
   "outputs": [
    {
     "data": {
      "text/plain": [
       "['id', 'title', 'url', 'num_points', 'num_comments', 'author', 'created_at']"
      ]
     },
     "execution_count": 14,
     "metadata": {},
     "output_type": "execute_result"
    }
   ],
   "source": [
    "headers"
   ]
  },
  {
   "cell_type": "code",
   "execution_count": 15,
   "metadata": {},
   "outputs": [
    {
     "name": "stdout",
     "output_type": "stream",
     "text": [
      "In total, Ask Posts got 26268 points\n",
      "In total, Show Posts got 32019 points\n",
      "In total, Other Posts got 952664 points\n",
      "\n",
      "\n",
      "On an average each Show HN post recieved 27.6 points, whereas each Ask HN post recieved 15.1 points\n"
     ]
    }
   ],
   "source": [
    "ask_posts_num_points = 0\n",
    "show_posts_num_points = 0\n",
    "other_posts_num_points = 0\n",
    "\n",
    "for row in hn:\n",
    "    title = row[1]\n",
    "    num_points = int(row[3])\n",
    "    if title.lower().startswith('ask hn'):\n",
    "        ask_posts_num_points += num_points\n",
    "    elif title.lower().startswith('show hn'):\n",
    "        show_posts_num_points += num_points\n",
    "    else:\n",
    "        other_posts_num_points += num_points\n",
    "        \n",
    "print('In total, Ask Posts got', ask_posts_num_points, 'points')\n",
    "print('In total, Show Posts got', show_posts_num_points, 'points')\n",
    "print('In total, Other Posts got', other_posts_num_points, 'points')\n",
    "print('\\n')\n",
    "print('On an average each Show HN post recieved {:.1f} points, whereas each Ask HN post recieved {:.1f} points'.format(show_posts_num_points/len(show_posts), ask_posts_num_points/len(ask_posts)))"
   ]
  },
  {
   "cell_type": "markdown",
   "metadata": {},
   "source": [
    "- We can see that in terms of recieving points, **Show Posts** recieve more than the **Ask Posts**. It can be infered that Show Posts recieve more appreciation\n",
    "- Posts that weren't either **Ask Posts** or **Show Posts** recieved extravagantly high `num_points`, but it can not be compared with the `num_points` **Ask Posts** or **Show Posts** recieved as the **Other Posts** occupy more than 80% of the dataset. "
   ]
  },
  {
   "cell_type": "code",
   "execution_count": 16,
   "metadata": {},
   "outputs": [
    {
     "name": "stdout",
     "output_type": "stream",
     "text": [
      "Posts made on following hours scored maximum Points:\n",
      "\n",
      "17:00: 72239.00 Points scored by the post\n",
      "15:00: 68671.00 Points scored by the post\n",
      "16:00: 64811.00 Points scored by the post\n",
      "14:00: 62660.00 Points scored by the post\n",
      "18:00: 62415.00 Points scored by the post\n",
      "19:00: 62026.00 Points scored by the post\n",
      "13:00: 61898.00 Points scored by the post\n",
      "12:00: 48612.00 Points scored by the post\n",
      "21:00: 45736.00 Points scored by the post\n",
      "20:00: 44188.00 Points scored by the post\n"
     ]
    }
   ],
   "source": [
    "result_list_num_points = []\n",
    "for row in hn:\n",
    "    created_at = row[6] # index for time of creation of the post\n",
    "    num_points = int(row[3]) # index number of points\n",
    "    result_list_num_points.append([created_at, num_points])\n",
    "\n",
    "counts_by_hour = {}\n",
    "points_by_hour = {}\n",
    "date_format = \"%m/%d/%Y %H:%M\"\n",
    "\n",
    "for row in result_list_num_points:\n",
    "    date = row[0]\n",
    "    num_points = row[1]\n",
    "    hour = dt.datetime.strptime(date, date_format).strftime(\"%H\")\n",
    "    if hour in counts_by_hour:\n",
    "        points_by_hour[hour] += num_points\n",
    "        counts_by_hour[hour] += 1\n",
    "    else:\n",
    "        points_by_hour[hour] = num_points\n",
    "        counts_by_hour[hour] = 1\n",
    "    \n",
    "# Lets repeat the procedure to have a nice sorted view\n",
    "swapped_points_by_hour = []\n",
    "for hour, points in points_by_hour.items():\n",
    "    swapped_points_by_hour.append([points, hour])\n",
    "\n",
    "sorted_swap= sorted(swapped_points_by_hour, reverse=True)\n",
    "print(\"Posts made on following hours scored maximum Points:\\n\")\n",
    "for points , hr in sorted_swap[:10]:\n",
    "    print(\"{}: {:.2f} Points scored by the post\".format(dt.datetime.strptime(hr, \"%H\").strftime(\"%H:%M\"), int(points)))\n",
    "    "
   ]
  },
  {
   "cell_type": "markdown",
   "metadata": {},
   "source": [
    "- Posts that were created between **13:00 to 19:00** managed to take 60,000 of the points. However, attributing this to time slot seems vague. \n",
    "    - It might be due to some popular Authors who usually make their posts in those hours. Well, it's interesting to look into it"
   ]
  },
  {
   "cell_type": "markdown",
   "metadata": {},
   "source": [
    "### Most Popular Authors\n",
    "Lets check if there are some authors who are popular than others and garner more attention. We will try to find which Authors' posts generate \n",
    "- most of the comments\n",
    "- most of the points\n"
   ]
  },
  {
   "cell_type": "code",
   "execution_count": 17,
   "metadata": {},
   "outputs": [
    {
     "name": "stdout",
     "output_type": "stream",
     "text": [
      "Following Authors' posts made highest number of comments:\n",
      "\n",
      "7698 comments on the posts made by ingve\n",
      "5897 comments on the posts made by prostoalex\n",
      "4230 comments on the posts made by jseliger\n",
      "3485 comments on the posts made by nkurz\n",
      "2797 comments on the posts made by whoishiring\n",
      "2325 comments on the posts made by adamnemecek\n",
      "2272 comments on the posts made by uptown\n",
      "2147 comments on the posts made by wallflower\n",
      "2146 comments on the posts made by hvo\n",
      "2061 comments on the posts made by doener\n",
      "1952 comments on the posts made by pmcpinto\n",
      "1945 comments on the posts made by danso\n",
      "1929 comments on the posts made by dnetesn\n",
      "1836 comments on the posts made by sama\n",
      "1821 comments on the posts made by jonbaer\n",
      "1769 comments on the posts made by randomname2\n",
      "1759 comments on the posts made by walterbell\n",
      "1734 comments on the posts made by benigeri\n",
      "1686 comments on the posts made by DiabloD3\n",
      "1664 comments on the posts made by luu\n",
      "1622 comments on the posts made by bootload\n",
      "1607 comments on the posts made by dwaxe\n",
      "1535 comments on the posts made by Jerry2\n",
      "1465 comments on the posts made by coloneltcb\n",
      "1436 comments on the posts made by petethomas\n",
      "1420 comments on the posts made by Osiris30\n",
      "1352 comments on the posts made by runesoerensen\n",
      "1352 comments on the posts made by okket\n",
      "1343 comments on the posts made by robin_reala\n",
      "1338 comments on the posts made by jackgavigan\n",
      "1325 comments on the posts made by pavornyoh\n",
      "1260 comments on the posts made by signa11\n",
      "1183 comments on the posts made by rdl\n",
      "1170 comments on the posts made by adventured\n",
      "1168 comments on the posts made by bpierre\n",
      "1165 comments on the posts made by Tomte\n",
      "1143 comments on the posts made by ghosh\n",
      "1092 comments on the posts made by apsec112\n",
      "1085 comments on the posts made by tokenadult\n",
      "1047 comments on the posts made by tshtf\n",
      "1030 comments on the posts made by doppp\n",
      "1014 comments on the posts made by kawera\n",
      "1007 comments on the posts made by ikeboy\n",
      "1002 comments on the posts made by kushti\n",
      "1002 comments on the posts made by jimsojim\n",
      "997 comments on the posts made by nols\n",
      "964 comments on the posts made by sinak\n",
      "959 comments on the posts made by edward\n",
      "941 comments on the posts made by temp\n",
      "935 comments on the posts made by steven\n"
     ]
    }
   ],
   "source": [
    "authors_comments = {}\n",
    "for row in hn:\n",
    "    author = str(row[5])\n",
    "    num_comments = int(row[4])\n",
    "    if author in authors_comments:\n",
    "        authors_comments[author] += num_comments\n",
    "    else:\n",
    "        authors_comments[author] = 1\n",
    "    \n",
    "# Lets repeat the procedure to have a nice sorted view\n",
    "swapped_dict = []\n",
    "for author, comments in authors_comments.items():\n",
    "    swapped_dict.append([comments, author])\n",
    "\n",
    "sorted_swap= sorted(swapped_dict, reverse=True)\n",
    "print(\"Following Authors' posts made highest number of comments:\\n\")\n",
    "for author , comments in sorted_swap[:50]:\n",
    "    print(\"{} comments on the posts made by {}\".format(author, comments))\n",
    "    "
   ]
  },
  {
   "cell_type": "markdown",
   "metadata": {},
   "source": [
    "- Top 15 Authors with respect to the **number of comments** their posts recieved\n",
    "    1. ingve\n",
    "    2. prostoalex\n",
    "    3. jseliger\n",
    "    4. nkurz\n",
    "    5. whoishiring\n",
    "    6. adamnemecek\n",
    "    7. uptown\n",
    "    8. wallflower\n",
    "    9. hvo\n",
    "    10. doener\n",
    "    11. pmcpinto\n",
    "    12. danso\n",
    "    13. dnetesn\n",
    "    14. sama\n",
    "    15. jonbae"
   ]
  },
  {
   "cell_type": "code",
   "execution_count": 18,
   "metadata": {},
   "outputs": [
    {
     "name": "stdout",
     "output_type": "stream",
     "text": [
      "Following Authors' posts made highest number of points:\n",
      "\n",
      "16675 points on the posts made by ingve\n",
      "7851 points on the posts made by prostoalex\n",
      "5713 points on the posts made by adamnemecek\n",
      "4703 points on the posts made by nkurz\n",
      "4554 points on the posts made by dnetesn\n",
      "4466 points on the posts made by jseliger\n",
      "4373 points on the posts made by danso\n",
      "3996 points on the posts made by jonbaer\n",
      "3992 points on the posts made by bpierre\n",
      "3976 points on the posts made by DiabloD3\n",
      "3883 points on the posts made by luu\n",
      "3691 points on the posts made by doener\n",
      "3573 points on the posts made by uptown\n",
      "3548 points on the posts made by bootload\n",
      "3341 points on the posts made by wallflower\n",
      "3219 points on the posts made by sama\n",
      "3166 points on the posts made by walterbell\n",
      "3124 points on the posts made by dang\n",
      "3104 points on the posts made by dwaxe\n",
      "3025 points on the posts made by okket\n",
      "3021 points on the posts made by robin_reala\n",
      "2882 points on the posts made by runesoerensen\n",
      "2856 points on the posts made by signa11\n",
      "2751 points on the posts made by jackgavigan\n",
      "2732 points on the posts made by hvo\n",
      "2665 points on the posts made by Tomte\n",
      "2644 points on the posts made by randomname2\n",
      "2599 points on the posts made by pmcpinto\n",
      "2429 points on the posts made by coloneltcb\n",
      "2420 points on the posts made by pavornyoh\n",
      "2375 points on the posts made by tshtf\n",
      "2349 points on the posts made by tilt\n",
      "2303 points on the posts made by doppp\n",
      "2283 points on the posts made by Jerry2\n",
      "2192 points on the posts made by Osiris30\n",
      "2182 points on the posts made by rdl\n",
      "2134 points on the posts made by apsec112\n",
      "2116 points on the posts made by ghosh\n",
      "2045 points on the posts made by temp\n",
      "2014 points on the posts made by petethomas\n",
      "1991 points on the posts made by kawera\n",
      "1852 points on the posts made by sinak\n",
      "1840 points on the posts made by samclemens\n",
      "1823 points on the posts made by edward\n",
      "1803 points on the posts made by jgrahamc\n",
      "1766 points on the posts made by jsnell\n",
      "1748 points on the posts made by Thevet\n",
      "1744 points on the posts made by kushti\n",
      "1695 points on the posts made by ivank\n",
      "1693 points on the posts made by rfreytag\n"
     ]
    }
   ],
   "source": [
    "authors_points = {}\n",
    "for row in hn:\n",
    "    author = str(row[5])\n",
    "    num_points = int(row[3])\n",
    "    if author in authors_points:\n",
    "        authors_points[author] += num_points\n",
    "    else:\n",
    "        authors_points[author] = 1\n",
    "    \n",
    "# Lets repeat the procedure to have a nice sorted view\n",
    "swapped_dict = []\n",
    "for author, points in authors_points.items():\n",
    "    swapped_dict.append([points, author])\n",
    "\n",
    "sorted_swap= sorted(swapped_dict, reverse=True)\n",
    "print(\"Following Authors' posts made highest number of points:\\n\")\n",
    "for author , points in sorted_swap[:50]:\n",
    "    print(\"{} points on the posts made by {}\".format(author, points))\n",
    "    "
   ]
  },
  {
   "cell_type": "markdown",
   "metadata": {},
   "source": [
    "- Top 15 Authors with respect to the **number of points** their posts recieved\n",
    "\n",
    "    1. ingve\n",
    "    2. prostoalex\n",
    "    3. adamnemecek\n",
    "    4. nkurz\n",
    "    5. dnetesn\n",
    "    6. jseliger\n",
    "    7. danso\n",
    "    8. jonbaer\n",
    "    9. bpierre\n",
    "    10. DiabloD3\n",
    "    11. luu\n",
    "    12. doener\n",
    "    13. uptown\n",
    "    14. bootload\n",
    "    15. wallflower"
   ]
  },
  {
   "cell_type": "markdown",
   "metadata": {},
   "source": [
    "---\n",
    "## Conclusion:\n",
    "In this project, we examined a dataset containing posts from \"Hacker News.\" We addressed following questions:\n",
    "\n",
    "To answer the following questions:\n",
    "1. Do Ask HN or Show HN receive more comments on average?\n",
    "    - **Ask Posts** recieve more comments than Show Posts. A ratio of 7:5 can be associated for the sake of comparison\n",
    "2. Whether Ask HN or Show HN recieve more number of points?\n",
    "    - **Show HN Posts** recieved higher number of points \n",
    "3. Do the Ask HN posts created at a certain time receive more comments on average?\n",
    "    - There are two noticable time peaks. One is at **14:00 - 16:00 hour** where on average, 7700 comments are made. Alone at **15:00** more than 4500 comments are registered. The other one around **20:00 - 21:00 hours** where on average, around 3500 comments are made.\n",
    "    \n",
    "\n",
    "I also took out the names of the most popular Authors to conduct analysis in future on those Authors' profiles\n",
    "\n",
    "\n",
    "\n"
   ]
  },
  {
   "cell_type": "code",
   "execution_count": null,
   "metadata": {},
   "outputs": [],
   "source": []
  }
 ],
 "metadata": {
  "kernelspec": {
   "display_name": "Python 3",
   "language": "python",
   "name": "python3"
  },
  "language_info": {
   "codemirror_mode": {
    "name": "ipython",
    "version": 3
   },
   "file_extension": ".py",
   "mimetype": "text/x-python",
   "name": "python",
   "nbconvert_exporter": "python",
   "pygments_lexer": "ipython3",
   "version": "3.8.3"
  }
 },
 "nbformat": 4,
 "nbformat_minor": 2
}
